{
 "cells": [
  {
   "cell_type": "markdown",
   "id": "98cbe3b5-c41b-437a-a888-ef79da152dc0",
   "metadata": {},
   "source": [
    "### Generating Guides from OpenAPI Specification\n",
    "\n",
    "*iteratively create more complicated examples to prototype generation of high quality guides*"
   ]
  },
  {
   "cell_type": "markdown",
   "id": "e2a11448",
   "metadata": {},
   "source": [
    "### (1) Rudimentary Example\n",
    "\n",
    "```mermaid\n",
    "graph LR\n",
    "    allow.com.yaml --> DocumentLoader\n",
    "    DocumentLoader --> Chat\n",
    "    Query[How do I create a journey in Python?] --> Chat\n",
    "    Chat --> Guide\n",
    "```"
   ]
  },
  {
   "cell_type": "code",
   "execution_count": 6,
   "id": "6cbdeb3a",
   "metadata": {},
   "outputs": [],
   "source": [
    "from langchain_openai import ChatOpenAI\n",
    "\n",
    "\n",
    "\n",
    "chat = ChatOpenAI(model=\"gpt-3.5-turbo-0125\", temperature=0.2)"
   ]
  },
  {
   "cell_type": "code",
   "execution_count": 7,
   "id": "0a81101f-7a0e-4222-a088-0a3fd09a564f",
   "metadata": {},
   "outputs": [],
   "source": [
    "from langchain.document_loaders.text import TextLoader\n",
    "\n",
    "file_path = 'alloy.com.yaml'\n",
    "loader = TextLoader(file_path)\n",
    "docs = loader.load()"
   ]
  },
  {
   "cell_type": "markdown",
   "id": "a840e3d0-6810-4461-9892-08cb43b0aec8",
   "metadata": {},
   "source": [
    "### gpt-4-turbo Pricing\n",
    "\n",
    "- Input: $10.00 / 1M tokens\n",
    "\n",
    "- Output: $30.00 / 1M tokens\n",
    "\n",
    "### gpt-3.5-turbo Pricing\n",
    "\n",
    "- Input: $0.50 / 1M tokens\n",
    "\n",
    "- Output: $1.50 / 1M tokens"
   ]
  },
  {
   "cell_type": "code",
   "execution_count": 8,
   "id": "802f69bc-08f2-47e1-80e1-413b1ba9fb2b",
   "metadata": {},
   "outputs": [
    {
     "name": "stdout",
     "output_type": "stream",
     "text": [
      "gpt-4-turbo: Price of passing in alloy.com.yaml 1 time: $0.50122\n",
      "gpt-4-turbo: Price of passing in alloy.com.yaml 20 times: $10.0244\n",
      "gpt-3.5-turbo: Price of passing in alloy.com.yaml 1 time: $0.025061\n",
      "gpt-3.5-turbo: Price of passing in alloy.com.yaml 20 times: $0.50122\n"
     ]
    }
   ],
   "source": [
    "import tiktoken\n",
    "\n",
    "# To get the tokeniser corresponding to a specific model in the OpenAI API:\n",
    "enc = tiktoken.encoding_for_model(\"gpt-4\")\n",
    "\n",
    "with open(\"alloy.com.yaml\") as f:\n",
    "    doc = f.read()\n",
    "\n",
    "tokens = enc.encode(doc)\n",
    "len(tokens)\n",
    "gpt4_price = len(tokens) * 10 / 1_000_000\n",
    "gpt35_price = len(tokens) * 0.5 / 1_000_000\n",
    "print(\"gpt-4-turbo: Price of passing in alloy.com.yaml 1 time: ${}\".format(gpt4_price))\n",
    "print(\"gpt-4-turbo: Price of passing in alloy.com.yaml 20 times: ${}\".format(gpt4_price * 20))\n",
    "print(\"gpt-3.5-turbo: Price of passing in alloy.com.yaml 1 time: ${}\".format(gpt35_price))\n",
    "print(\"gpt-3.5-turbo: Price of passing in alloy.com.yaml 20 times: ${}\".format(gpt35_price * 20))"
   ]
  },
  {
   "cell_type": "markdown",
   "id": "18ab486a-faba-4e7b-91b4-36f3a50bcc52",
   "metadata": {},
   "source": [
    "### ⛔️ Problem #1: Passing entire OpenAPI Specification is too expensive\n",
    "### ⛔️ Problem #2: Entire OpenAPI Specification does not fit in gpt-3.5-turbo\n",
    "### 🤔 Solution: Chunk the OpenAPI Specification, retrieve from vector store, and pass in as context instead"
   ]
  },
  {
   "cell_type": "code",
   "execution_count": 9,
   "id": "af946b79-f6ce-4304-b771-653abba6f0d7",
   "metadata": {},
   "outputs": [],
   "source": [
    "\n",
    "from langchain_chroma import Chroma\n",
    "from langchain_openai import OpenAIEmbeddings\n",
    "from langchain_text_splitters import RecursiveCharacterTextSplitter\n",
    "\n",
    "# store OAS in vector DB\n",
    "text_splitter = RecursiveCharacterTextSplitter(chunk_size=1000, chunk_overlap=200)\n",
    "splits = text_splitter.split_documents(docs)\n",
    "vectorstore = Chroma.from_documents(documents=splits, embedding=OpenAIEmbeddings())\n",
    "\n",
    "# Retrieve and generate using the relevant snippets of the blog.\n",
    "retriever = vectorstore.as_retriever()"
   ]
  },
  {
   "cell_type": "code",
   "execution_count": 10,
   "id": "1ed92928-1dee-4758-b76e-7ac072a48a9d",
   "metadata": {},
   "outputs": [],
   "source": [
    "query = \"How do I create a journey in Python?\""
   ]
  },
  {
   "cell_type": "code",
   "execution_count": 11,
   "id": "7ed8ff09-de3d-440d-8bc4-19993c6b4a28",
   "metadata": {},
   "outputs": [],
   "source": [
    "from langchain import hub\n",
    "\n",
    "prompt = hub.pull(\"rlm/rag-prompt\")"
   ]
  },
  {
   "cell_type": "code",
   "execution_count": 12,
   "id": "2579587d-5863-41fa-b7ea-c3ed32133886",
   "metadata": {},
   "outputs": [
    {
     "name": "stdout",
     "output_type": "stream",
     "text": [
      "input_variables=['context', 'question'] metadata={'lc_hub_owner': 'rlm', 'lc_hub_repo': 'rag-prompt', 'lc_hub_commit_hash': '50442af133e61576e74536c6556cefe1fac147cad032f4377b60c436e6cdcb6e'} messages=[HumanMessagePromptTemplate(prompt=PromptTemplate(input_variables=['context', 'question'], template=\"You are an assistant for question-answering tasks. Use the following pieces of retrieved context to answer the question. If you don't know the answer, just say that you don't know. Use three sentences maximum and keep the answer concise.\\nQuestion: {question} \\nContext: {context} \\nAnswer:\"))]\n",
      "<class 'langchain_core.prompts.chat.ChatPromptTemplate'>\n"
     ]
    }
   ],
   "source": [
    "print(prompt)\n",
    "print(type(prompt))"
   ]
  },
  {
   "cell_type": "code",
   "execution_count": 13,
   "id": "8a4efa9c-c3d2-4dbe-85b6-63f38db462cf",
   "metadata": {},
   "outputs": [],
   "source": [
    "from langchain_core.output_parsers import StrOutputParser\n",
    "from langchain_core.runnables import RunnablePassthrough\n",
    "\n",
    "def format_docs(docs):\n",
    "    return \"\\n\\n\".join(doc.page_content for doc in docs)\n",
    "\n",
    "rag_chain = (\n",
    "    {\"context\": retriever | format_docs, \"question\": RunnablePassthrough()}\n",
    "    | prompt\n",
    "    | chat\n",
    "    | StrOutputParser()\n",
    ")\n",
    "\n",
    "output = rag_chain.invoke(query)"
   ]
  },
  {
   "cell_type": "code",
   "execution_count": 14,
   "id": "0187cf3f-bc8e-49c7-9acc-f412b0e57ed2",
   "metadata": {},
   "outputs": [
    {
     "data": {
      "text/markdown": [
       "To create a journey in Python, you would need to define the properties of the journey object such as journey_name, journey_type, journey_token, and journey_version_num. You can also include links to related objects using the _links property. Additionally, you can embed journey applications within the journey object by defining the properties of the journey_applications array."
      ],
      "text/plain": [
       "<IPython.core.display.Markdown object>"
      ]
     },
     "metadata": {},
     "output_type": "display_data"
    }
   ],
   "source": [
    "from IPython.display import display, Markdown\n",
    "\n",
    "display(Markdown(output))"
   ]
  },
  {
   "cell_type": "markdown",
   "id": "c3783ce2-2944-4d4e-8824-05920350eb20",
   "metadata": {},
   "source": [
    "### 👎 Results \n",
    "\n",
    "Output is nearly useless. Does not provide environment setup instructions or example code.\n",
    "\n",
    "### 🤔 Maybe provide system instructions that are more explicit?"
   ]
  },
  {
   "cell_type": "code",
   "execution_count": 15,
   "id": "a77dbfde-760f-4c82-8b34-9b0398520e40",
   "metadata": {},
   "outputs": [],
   "source": [
    "from langchain_core.prompts import ChatPromptTemplate\n",
    "\n",
    "better_prompt = ChatPromptTemplate.from_messages(\n",
    "    [\n",
    "        (\n",
    "            \"system\",\n",
    "            \"You are an assistant for question-answering tasks. f you don't know the answer, just say that you don't know. Use markdown to ensure code blocks and commands are propertly formatted. Make sure to always include environment setup instructions and code blocks that are helpful for a developer to copy-paste. Always explain inputs and outputs of API requests. Be as detailed as possible. Answer the user's questions based on the below context:\\n\\n{context}\",\n",
    "        ),\n",
    "        (\n",
    "            \"user\",\n",
    "            \"{question}\"\n",
    "        )\n",
    "    ]\n",
    ")"
   ]
  },
  {
   "cell_type": "code",
   "execution_count": 16,
   "id": "89986602-059e-4810-a1af-a8b31afab611",
   "metadata": {},
   "outputs": [],
   "source": [
    "rag_chain = (\n",
    "    {\"context\": retriever | format_docs, \"question\": RunnablePassthrough()}\n",
    "    | better_prompt\n",
    "    | chat\n",
    "    | StrOutputParser()\n",
    ")"
   ]
  },
  {
   "cell_type": "code",
   "execution_count": 17,
   "id": "f7081e64-b288-4954-835e-9ad74dea6240",
   "metadata": {},
   "outputs": [],
   "source": [
    "output = rag_chain.invoke(query)"
   ]
  },
  {
   "cell_type": "code",
   "execution_count": 18,
   "id": "363d38b4-6e61-461d-b002-4ab74974106b",
   "metadata": {},
   "outputs": [
    {
     "data": {
      "text/markdown": [
       "To create a journey in Python, you would typically need to make an API request to the journey creation endpoint provided by the service you are using. Below is a general outline of the steps involved in creating a journey in Python using requests library:\n",
       "\n",
       "1. Import the necessary libraries:\n",
       "```python\n",
       "import requests\n",
       "import json\n",
       "```\n",
       "\n",
       "2. Define the endpoint URL for creating a journey:\n",
       "```python\n",
       "url = \"https://api.example.com/create_journey\"\n",
       "```\n",
       "\n",
       "3. Prepare the payload data for the journey:\n",
       "```python\n",
       "payload = {\n",
       "    \"journey_name\": \"My Journey\",\n",
       "    \"journey_type\": \"application\",\n",
       "    \"journey_version_num\": \"1.0\",\n",
       "    \"journey_token\": \"my_journey_token\"\n",
       "}\n",
       "```\n",
       "\n",
       "4. Convert the payload data to JSON format:\n",
       "```python\n",
       "payload_json = json.dumps(payload)\n",
       "```\n",
       "\n",
       "5. Set the headers for the request:\n",
       "```python\n",
       "headers = {\n",
       "    \"Content-Type\": \"application/json\",\n",
       "    \"Authorization\": \"Bearer YOUR_ACCESS_TOKEN\"\n",
       "}\n",
       "```\n",
       "\n",
       "6. Make a POST request to create the journey:\n",
       "```python\n",
       "response = requests.post(url, data=payload_json, headers=headers)\n",
       "\n",
       "# Check if the request was successful\n",
       "if response.status_code == 201:\n",
       "    print(\"Journey created successfully!\")\n",
       "else:\n",
       "    print(\"Failed to create journey. Status code:\", response.status_code)\n",
       "```\n",
       "\n",
       "7. Handle the response data as needed:\n",
       "```python\n",
       "journey_data = response.json()\n",
       "# Process the journey data as needed\n",
       "```\n",
       "\n",
       "Please note that the actual implementation may vary depending on the specific API and service you are using to create journeys. Make sure to replace the placeholder values (e.g., URL, payload data, headers) with your actual data. Additionally, ensure you have the necessary permissions and access tokens to create journeys through the API."
      ],
      "text/plain": [
       "<IPython.core.display.Markdown object>"
      ]
     },
     "metadata": {},
     "output_type": "display_data"
    }
   ],
   "source": [
    "display(Markdown(output))"
   ]
  },
  {
   "cell_type": "markdown",
   "id": "4a400e30-2d3c-4cb8-969e-c395e1178d4d",
   "metadata": {},
   "source": [
    "### 👎 Results\n",
    "\n",
    "Looks like the result is lacking the correct base URL, proper parameters, and explanation of inputs and outputs. This makes the answer still nearly useless. Likely because the model was not given enough context.\n",
    "\n",
    "### 🤔 Lets investigate what our vector store is returning"
   ]
  },
  {
   "cell_type": "code",
   "execution_count": 20,
   "id": "3dc37441-1375-4f19-8975-9e9f1840fd60",
   "metadata": {},
   "outputs": [
    {
     "name": "stdout",
     "output_type": "stream",
     "text": [
      "type: object\n",
      "                                  properties:\n",
      "                                    href:\n",
      "                                      type: string\n",
      "                      journey:\n",
      "                        type: object\n",
      "                        properties:\n",
      "                          journey_name:\n",
      "                            type: string\n",
      "                          journey_type:\n",
      "                            type: string\n",
      "                            enum:\n",
      "                              - application\n",
      "                              - alert\n",
      "                          journey_token:\n",
      "                            type: string\n",
      "                          journey_version_num:\n",
      "                            type: string\n",
      "                          _links:\n",
      "                            type: object\n",
      "                            properties:\n",
      "                              self:\n",
      "                                type: object\n",
      "                                properties:\n",
      "type: object\n",
      "                                  properties:\n",
      "                                    href:\n",
      "                                      type: string\n",
      "                      journey:\n",
      "                        type: object\n",
      "                        properties:\n",
      "                          journey_name:\n",
      "                            type: string\n",
      "                          journey_type:\n",
      "                            type: string\n",
      "                            enum:\n",
      "                              - application\n",
      "                              - alert\n",
      "                          journey_token:\n",
      "                            type: string\n",
      "                          journey_version_num:\n",
      "                            type: string\n",
      "                          _links:\n",
      "                            type: object\n",
      "                            properties:\n",
      "                              self:\n",
      "                                type: object\n",
      "                                properties:\n",
      "properties:\n",
      "                          self:\n",
      "                            type: object\n",
      "                            properties:\n",
      "                              journey_batch:\n",
      "                                type: object\n",
      "                                properties:\n",
      "                                  href:\n",
      "                                    description: Link to batch journey applications\n",
      "                                    type: string\n",
      "                      _embedded:\n",
      "                        type: object\n",
      "                        properties:\n",
      "                          journey_applications:\n",
      "                            type: array\n",
      "                            items:\n",
      "                              type: object\n",
      "                              properties:\n",
      "                                journey_application_token:\n",
      "                                  type: string\n",
      "                                sandbox:\n",
      "                                  type: boolean\n",
      "properties:\n",
      "                          self:\n",
      "                            type: object\n",
      "                            properties:\n",
      "                              journey_batch:\n",
      "                                type: object\n",
      "                                properties:\n",
      "                                  href:\n",
      "                                    description: Link to batch journey applications\n",
      "                                    type: string\n",
      "                      _embedded:\n",
      "                        type: object\n",
      "                        properties:\n",
      "                          journey_applications:\n",
      "                            type: array\n",
      "                            items:\n",
      "                              type: object\n",
      "                              properties:\n",
      "                                journey_application_token:\n",
      "                                  type: string\n",
      "                                sandbox:\n",
      "                                  type: boolean\n"
     ]
    }
   ],
   "source": [
    "results = retriever.invoke(query)\n",
    "\n",
    "for doc in results:\n",
    "    print(doc.page_content)"
   ]
  },
  {
   "cell_type": "markdown",
   "id": "26ee338e-8354-4acb-8e23-a1b61d459eb2",
   "metadata": {},
   "source": [
    "### 👎 Useless chunk results\n",
    "\n",
    "The results don't contain anything about the relevant API endpoint\n",
    "\n",
    "### 🤔 Can we improve the chunk results by doing smarter chunking?\n",
    "\n",
    "Maybe if we chunk the OpenAPI spec based on operations, we can give the LLM better context."
   ]
  },
  {
   "cell_type": "code",
   "execution_count": null,
   "id": "def18e15-12ef-4b74-b812-6bf8957ab0b3",
   "metadata": {},
   "outputs": [],
   "source": []
  },
  {
   "cell_type": "markdown",
   "id": "6eebc75d-9b00-45d4-920a-9f94b52c9220",
   "metadata": {},
   "source": [
    "### (2) Add documentation and custom configuration to input\n",
    "\n",
    "```mermaid\n",
    "graph LR\n",
    "    allow.com.yaml --> DocumentLoader\n",
    "    Documentation --> DocumentLoader\n",
    "    JSON[Custom JSON Configuration] --> DocumentLoader\n",
    "    DocumentLoader --> Chat\n",
    "    Query[How do I create a journey in Python?] --> Chat\n",
    "    Chat --> Guide\n",
    "```"
   ]
  },
  {
   "cell_type": "code",
   "execution_count": null,
   "id": "450dc3bf-a4f0-4ad2-99a5-c9399a94f546",
   "metadata": {},
   "outputs": [],
   "source": []
  }
 ],
 "metadata": {
  "kernelspec": {
   "display_name": "Python 3 (ipykernel)",
   "language": "python",
   "name": "python3"
  },
  "language_info": {
   "codemirror_mode": {
    "name": "ipython",
    "version": 3
   },
   "file_extension": ".py",
   "mimetype": "text/x-python",
   "name": "python",
   "nbconvert_exporter": "python",
   "pygments_lexer": "ipython3",
   "version": "3.11.6"
  }
 },
 "nbformat": 4,
 "nbformat_minor": 5
}
