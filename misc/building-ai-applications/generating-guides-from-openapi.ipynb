{
 "cells": [
  {
   "cell_type": "markdown",
   "id": "98cbe3b5-c41b-437a-a888-ef79da152dc0",
   "metadata": {},
   "source": [
    "### Generating Guides from OpenAPI Specification"
   ]
  },
  {
   "cell_type": "markdown",
   "id": "e2a11448",
   "metadata": {},
   "source": [
    "### (1) Rudimentary Example\n",
    "\n",
    "\n",
    "\n",
    "```mermaid\n",
    "graph LR\n",
    "    allow.com.yaml --> DocumentLoader\n",
    "    DocumentLoader --> Chat\n",
    "    Query[How do I create a journey in Python?] --> Chat\n",
    "    Chat --> Guide\n",
    "```"
   ]
  },
  {
   "cell_type": "code",
   "execution_count": 3,
   "id": "6cbdeb3a",
   "metadata": {},
   "outputs": [],
   "source": [
    "from langchain_openai import ChatOpenAI\n",
    "from langchain_core.prompts import ChatPromptTemplate, MessagesPlaceholder\n",
    "from langchain.chains.combine_documents import create_stuff_documents_chain\n",
    "\n",
    "\n",
    "chat = ChatOpenAI(model=\"gpt-4-turbo-preview\", temperature=0.2)\n",
    "question_answering_prompt = ChatPromptTemplate.from_messages(\n",
    "    [\n",
    "        (\n",
    "            \"system\",\n",
    "            \"When answering questions, use markdown to ensure code blocks and commands are propertly formatted. Answer the user's questions based on the below context:\\n\\n{context}\",\n",
    "        ),\n",
    "        MessagesPlaceholder(variable_name=\"messages\"),\n",
    "    ]\n",
    ")\n",
    "document_chain = create_stuff_documents_chain(chat, question_answering_prompt)"
   ]
  },
  {
   "cell_type": "code",
   "execution_count": 4,
   "id": "0a81101f-7a0e-4222-a088-0a3fd09a564f",
   "metadata": {},
   "outputs": [],
   "source": [
    "from langchain.document_loaders.text import TextLoader\n",
    "\n",
    "file_path = 'alloy.com.yaml'\n",
    "loader = TextLoader(file_path)\n",
    "docs = loader.load()"
   ]
  },
  {
   "cell_type": "code",
   "execution_count": 5,
   "id": "8a4efa9c-c3d2-4dbe-85b6-63f38db462cf",
   "metadata": {},
   "outputs": [],
   "source": [
    "from langchain.memory import ChatMessageHistory\n",
    "\n",
    "demo_ephemeral_chat_history = ChatMessageHistory()\n",
    "\n",
    "demo_ephemeral_chat_history.add_user_message(\"How do I create a journey in Python?\")\n",
    "\n",
    "output = document_chain.invoke(\n",
    "    {\n",
    "        \"messages\": demo_ephemeral_chat_history.messages,\n",
    "        \"context\": docs,\n",
    "    }\n",
    ")"
   ]
  },
  {
   "cell_type": "code",
   "execution_count": 6,
   "id": "0187cf3f-bc8e-49c7-9acc-f412b0e57ed2",
   "metadata": {},
   "outputs": [
    {
     "data": {
      "text/markdown": [
       "To create a journey in Python, you would typically interact with an API that supports journey creation. Based on the provided API documentation, it seems you are looking to create a journey application using the Alloy API. Here's a step-by-step guide on how you can do this using Python and the `requests` library.\n",
       "\n",
       "First, ensure you have the `requests` library installed. If not, you can install it using pip:\n",
       "\n",
       "```bash\n",
       "pip install requests\n",
       "```\n",
       "\n",
       "Next, you'll need to construct a POST request to the `/journeys/{journey_token}/applications` endpoint. You'll need to replace `{journey_token}` with the actual token of the journey you want to create an application for. You'll also need your Alloy API credentials (application token and secret) to authenticate the request.\n",
       "\n",
       "Here's an example Python script that demonstrates how to create a journey application:\n",
       "\n",
       "```python\n",
       "import requests\n",
       "from requests.auth import HTTPBasicAuth\n",
       "import json\n",
       "\n",
       "# Replace these variables with your actual API credentials and journey token\n",
       "application_token = 'your_application_token'\n",
       "application_secret = 'your_application_secret'\n",
       "journey_token = 'your_journey_token'\n",
       "\n",
       "# The Alloy API endpoint for creating a journey application\n",
       "url = f'https://demo-qasandbox.alloy.co/v1/journeys/{journey_token}/applications'\n",
       "\n",
       "# Example payload for the journey application\n",
       "# Modify this payload based on the specific requirements of your journey\n",
       "payload = {\n",
       "    \"entities\": [\n",
       "        {\n",
       "            \"external_entity_id\": \"person-entity\",\n",
       "            \"gender\": \"male\",\n",
       "            \"birth_date\": \"1998-02-03\",\n",
       "            \"name_first\": \"John\",\n",
       "            \"name_last\": \"Doe\",\n",
       "            \"document_ssn\": \"123456789\",\n",
       "            \"addresses\": [\n",
       "                {\n",
       "                    \"address_line_1\": \"41 E. 11th\",\n",
       "                    \"address_city\": \"New York\",\n",
       "                    \"address_state\": \"NY\",\n",
       "                    \"address_postal_code\": \"10003\",\n",
       "                    \"address_country_code\": \"US\",\n",
       "                    \"type\": \"primary\"\n",
       "                }\n",
       "            ],\n",
       "            \"emails\": [\n",
       "                {\n",
       "                    \"email_address\": \"john@alloy.com\"\n",
       "                }\n",
       "            ],\n",
       "            \"phones\": [\n",
       "                {\n",
       "                    \"phone_number\": \"555-000-1234\"\n",
       "                }\n",
       "            ],\n",
       "            \"pii_status\": \"successful\"\n",
       "        }\n",
       "    ]\n",
       "}\n",
       "\n",
       "# Headers including the Content-Type\n",
       "headers = {\n",
       "    'Content-Type': 'application/json'\n",
       "}\n",
       "\n",
       "# Make the POST request to the Alloy API\n",
       "response = requests.post(url, auth=HTTPBasicAuth(application_token, application_secret), headers=headers, data=json.dumps(payload))\n",
       "\n",
       "# Check if the request was successful\n",
       "if response.status_code == 201:\n",
       "    print(\"Journey application created successfully.\")\n",
       "    print(response.json())\n",
       "else:\n",
       "    print(\"Failed to create journey application.\")\n",
       "    print(\"Status code:\", response.status_code)\n",
       "    print(\"Response:\", response.json())\n",
       "```\n",
       "\n",
       "This script sends a POST request to the Alloy API to create a journey application. It includes an example payload with entity information. You'll need to modify the `payload` variable according to the specific requirements of your journey and the data you want to submit.\n",
       "\n",
       "Remember to replace `your_application_token`, `your_application_secret`, and `your_journey_token` with your actual Alloy API credentials and the token of the journey you're working with."
      ],
      "text/plain": [
       "<IPython.core.display.Markdown object>"
      ]
     },
     "metadata": {},
     "output_type": "display_data"
    }
   ],
   "source": [
    "from IPython.display import display, Markdown\n",
    "\n",
    "display(Markdown(output))"
   ]
  }
 ],
 "metadata": {
  "kernelspec": {
   "display_name": "Python 3 (ipykernel)",
   "language": "python",
   "name": "python3"
  },
  "language_info": {
   "codemirror_mode": {
    "name": "ipython",
    "version": 3
   },
   "file_extension": ".py",
   "mimetype": "text/x-python",
   "name": "python",
   "nbconvert_exporter": "python",
   "pygments_lexer": "ipython3",
   "version": "3.11.6"
  }
 },
 "nbformat": 4,
 "nbformat_minor": 5
}
