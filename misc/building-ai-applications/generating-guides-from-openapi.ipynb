{
 "cells": [
  {
   "cell_type": "markdown",
   "id": "98cbe3b5-c41b-437a-a888-ef79da152dc0",
   "metadata": {},
   "source": [
    "### Generating Guides from OpenAPI Specification\n",
    "\n",
    "*iteratively create more complicated examples to prototype generation of high quality guides*"
   ]
  },
  {
   "cell_type": "markdown",
   "id": "e2a11448",
   "metadata": {},
   "source": [
    "### (1) Rudimentary Example\n",
    "\n",
    "```mermaid\n",
    "graph LR\n",
    "    allow.com.yaml --> DocumentLoader\n",
    "    DocumentLoader --> Chat\n",
    "    Query[How do I create a journey in Python?] --> Chat\n",
    "    Chat --> Guide\n",
    "```"
   ]
  },
  {
   "cell_type": "code",
   "execution_count": 2,
   "id": "6cbdeb3a",
   "metadata": {},
   "outputs": [],
   "source": [
    "from langchain_openai import ChatOpenAI\n",
    "\n",
    "chat = ChatOpenAI(model=\"gpt-3.5-turbo-0125\", temperature=0.2)"
   ]
  },
  {
   "cell_type": "code",
   "execution_count": 6,
   "id": "623d30be-adaa-4671-9334-75e3b4495dc8",
   "metadata": {},
   "outputs": [],
   "source": [
    "from langchain.document_loaders.text import TextLoader\n",
    "def init_docs():\n",
    "    file_path = 'alloy.com.yaml'\n",
    "    loader = TextLoader(file_path)\n",
    "    docs = loader.load()"
   ]
  },
  {
   "cell_type": "code",
   "execution_count": 7,
   "id": "0a81101f-7a0e-4222-a088-0a3fd09a564f",
   "metadata": {},
   "outputs": [],
   "source": [
    "init_docs()"
   ]
  },
  {
   "cell_type": "markdown",
   "id": "a840e3d0-6810-4461-9892-08cb43b0aec8",
   "metadata": {},
   "source": [
    "### gpt-4-turbo Pricing\n",
    "\n",
    "- Input: $10.00 / 1M tokens\n",
    "\n",
    "- Output: $30.00 / 1M tokens\n",
    "\n",
    "### gpt-3.5-turbo Pricing\n",
    "\n",
    "- Input: $0.50 / 1M tokens\n",
    "\n",
    "- Output: $1.50 / 1M tokens"
   ]
  },
  {
   "cell_type": "code",
   "execution_count": 4,
   "id": "802f69bc-08f2-47e1-80e1-413b1ba9fb2b",
   "metadata": {},
   "outputs": [
    {
     "name": "stdout",
     "output_type": "stream",
     "text": [
      "gpt-4-turbo: Price of passing in alloy.com.yaml 1 time: $0.50122\n",
      "gpt-4-turbo: Price of passing in alloy.com.yaml 20 times: $10.0244\n",
      "gpt-3.5-turbo: Price of passing in alloy.com.yaml 1 time: $0.025061\n",
      "gpt-3.5-turbo: Price of passing in alloy.com.yaml 20 times: $0.50122\n"
     ]
    }
   ],
   "source": [
    "import tiktoken\n",
    "\n",
    "# To get the tokeniser corresponding to a specific model in the OpenAI API:\n",
    "enc = tiktoken.encoding_for_model(\"gpt-4\")\n",
    "\n",
    "with open(\"alloy.com.yaml\") as f:\n",
    "    doc = f.read()\n",
    "\n",
    "tokens = enc.encode(doc)\n",
    "len(tokens)\n",
    "gpt4_price = len(tokens) * 10 / 1_000_000\n",
    "gpt35_price = len(tokens) * 0.5 / 1_000_000\n",
    "print(\"gpt-4-turbo: Price of passing in alloy.com.yaml 1 time: ${}\".format(gpt4_price))\n",
    "print(\"gpt-4-turbo: Price of passing in alloy.com.yaml 20 times: ${}\".format(gpt4_price * 20))\n",
    "print(\"gpt-3.5-turbo: Price of passing in alloy.com.yaml 1 time: ${}\".format(gpt35_price))\n",
    "print(\"gpt-3.5-turbo: Price of passing in alloy.com.yaml 20 times: ${}\".format(gpt35_price * 20))"
   ]
  },
  {
   "cell_type": "markdown",
   "id": "18ab486a-faba-4e7b-91b4-36f3a50bcc52",
   "metadata": {},
   "source": [
    "### ⛔️ Problem #1: Passing entire OpenAPI Specification is too expensive\n",
    "### ⛔️ Problem #2: Entire OpenAPI Specification does not fit in gpt-3.5-turbo\n",
    "### 🤔 Solution: Chunk the OpenAPI Specification, retrieve from vector store, and pass in as context instead\n",
    "\n",
    "#### Data Pipeline\n",
    "\n",
    "```mermaid\n",
    "graph LR\n",
    "    alloy.com.yaml --> Chunk1\n",
    "    alloy.com.yaml --> Chunk2\n",
    "    alloy.com.yaml --> Chunk3\n",
    "    Chunk1 -->|embed| VectorStore\n",
    "    Chunk2 -->|embed| VectorStore\n",
    "    Chunk3 -->|embed| VectorStore\n",
    "    VectorStore -->|How do I create a journey in Python?| Chunk1Out[Chunk1]\n",
    "    VectorStore -->|How do I create a journey in Python?| Chunk3Out[Chunk3]\n",
    "    Chunk1Out --> Context\n",
    "    Chunk3Out --> Context\n",
    "    Context --> Chat\n",
    "    Query[How do I create a journey in Python?] --> Chat\n",
    "    Chat --> Guide\n",
    "```\n",
    "\n",
    "#### RAG Chain\n",
    "\n",
    "```mermaid\n",
    "graph LR\n",
    "    alloy.com.yaml --> TextSplitter\n",
    "    TextSplitter --> Chroma[Chroma 'Vector Store']\n",
    "    Chroma --> Retriever\n",
    "    Retriever --> Context\n",
    "    Context --> Chat\n",
    "    Query[How do I create a journey in Python?] --> Chat\n",
    "    Chat --> Guide\n",
    "```"
   ]
  },
  {
   "cell_type": "code",
   "execution_count": 5,
   "id": "af946b79-f6ce-4304-b771-653abba6f0d7",
   "metadata": {},
   "outputs": [],
   "source": [
    "from langchain_chroma import Chroma\n",
    "from langchain_openai import OpenAIEmbeddings\n",
    "from langchain_text_splitters import RecursiveCharacterTextSplitter\n",
    "\n",
    "# store OAS in vector DB\n",
    "text_splitter = RecursiveCharacterTextSplitter(chunk_size=1000, chunk_overlap=200)\n",
    "splits = text_splitter.split_documents(docs)\n",
    "vectorstore = Chroma.from_documents(documents=splits, embedding=OpenAIEmbeddings())\n",
    "\n",
    "# Retrieve and generate using the relevant snippets of the blog.\n",
    "retriever = vectorstore.as_retriever()"
   ]
  },
  {
   "cell_type": "code",
   "execution_count": 6,
   "id": "1ed92928-1dee-4758-b76e-7ac072a48a9d",
   "metadata": {},
   "outputs": [],
   "source": [
    "query = \"How do I create a journey in Python?\""
   ]
  },
  {
   "cell_type": "code",
   "execution_count": 7,
   "id": "7ed8ff09-de3d-440d-8bc4-19993c6b4a28",
   "metadata": {},
   "outputs": [],
   "source": [
    "from langchain import hub\n",
    "\n",
    "prompt = hub.pull(\"rlm/rag-prompt\")"
   ]
  },
  {
   "cell_type": "code",
   "execution_count": 8,
   "id": "8a4efa9c-c3d2-4dbe-85b6-63f38db462cf",
   "metadata": {},
   "outputs": [],
   "source": [
    "from langchain_core.output_parsers import StrOutputParser\n",
    "from langchain_core.runnables import RunnablePassthrough\n",
    "\n",
    "def format_docs(docs):\n",
    "    return \"\\n\\n\".join(doc.page_content for doc in docs)\n",
    "\n",
    "rag_chain = (\n",
    "    {\"context\": retriever | format_docs, \"question\": RunnablePassthrough()}\n",
    "    | prompt\n",
    "    | chat\n",
    "    | StrOutputParser()\n",
    ")\n",
    "\n",
    "output = rag_chain.invoke(query)"
   ]
  },
  {
   "cell_type": "code",
   "execution_count": 9,
   "id": "0187cf3f-bc8e-49c7-9acc-f412b0e57ed2",
   "metadata": {},
   "outputs": [
    {
     "data": {
      "text/markdown": [
       "To create a journey in Python, you can use the properties provided in the object, such as journey_name, journey_type, journey_token, and journey_version_num. You can also access additional information like journey_batch applications by following the specified links. Make sure to include the necessary parameters like journey_token and journey_application_token when making post requests for notes or batches related to the journey."
      ],
      "text/plain": [
       "<IPython.core.display.Markdown object>"
      ]
     },
     "metadata": {},
     "output_type": "display_data"
    }
   ],
   "source": [
    "from IPython.display import display, Markdown\n",
    "\n",
    "display(Markdown(output))"
   ]
  },
  {
   "cell_type": "markdown",
   "id": "c3783ce2-2944-4d4e-8824-05920350eb20",
   "metadata": {},
   "source": [
    "### 👎 Results \n",
    "\n",
    "Output is nearly useless. Does not provide environment setup instructions or example code.\n",
    "\n",
    "### 🤔 Maybe provide system instructions that are more explicit?"
   ]
  },
  {
   "cell_type": "code",
   "execution_count": 10,
   "id": "a77dbfde-760f-4c82-8b34-9b0398520e40",
   "metadata": {},
   "outputs": [],
   "source": [
    "from langchain_core.prompts import ChatPromptTemplate\n",
    "\n",
    "better_prompt = ChatPromptTemplate.from_messages(\n",
    "    [\n",
    "        (\n",
    "            \"system\",\n",
    "            \"You are an assistant for question-answering tasks. f you don't know the answer, just say that you don't know. Use markdown to ensure code blocks and commands are propertly formatted. Make sure to always include environment setup instructions and code blocks that are helpful for a developer to copy-paste. Always explain inputs and outputs of API requests. Be as detailed as possible. Answer the user's questions based on the below context:\\n\\n{context}\",\n",
    "        ),\n",
    "        (\n",
    "            \"user\",\n",
    "            \"{question}\"\n",
    "        )\n",
    "    ]\n",
    ")"
   ]
  },
  {
   "cell_type": "code",
   "execution_count": 11,
   "id": "89986602-059e-4810-a1af-a8b31afab611",
   "metadata": {},
   "outputs": [],
   "source": [
    "rag_chain = (\n",
    "    {\"context\": retriever | format_docs, \"question\": RunnablePassthrough()}\n",
    "    | better_prompt\n",
    "    | chat\n",
    "    | StrOutputParser()\n",
    ")"
   ]
  },
  {
   "cell_type": "code",
   "execution_count": 12,
   "id": "f7081e64-b288-4954-835e-9ad74dea6240",
   "metadata": {},
   "outputs": [],
   "source": [
    "output = rag_chain.invoke(query)"
   ]
  },
  {
   "cell_type": "code",
   "execution_count": 13,
   "id": "363d38b4-6e61-461d-b002-4ab74974106b",
   "metadata": {},
   "outputs": [
    {
     "data": {
      "text/markdown": [
       "To create a journey in Python, you typically need to make an API request to the endpoint responsible for creating journeys. Below are the general steps to create a journey in Python using an API:\n",
       "\n",
       "1. **Install Requests Library**: You can use the `requests` library in Python to make HTTP requests. If you don't have it installed, you can install it using pip:\n",
       "\n",
       "```bash\n",
       "pip install requests\n",
       "```\n",
       "\n",
       "2. **Make an API Request**: You need to make a POST request to the endpoint that creates journeys. Ensure you have the necessary authentication and permissions to create journeys.\n",
       "\n",
       "3. **Provide Required Data**: You may need to provide data such as the journey name, type, version number, etc., depending on the API requirements.\n",
       "\n",
       "4. **Handle the Response**: After making the request, you should handle the response to check if the journey was created successfully.\n",
       "\n",
       "Here is a basic example of how you can create a journey in Python using the `requests` library:\n",
       "\n",
       "```python\n",
       "import requests\n",
       "\n",
       "url = \"https://api.example.com/journeys\"  # Replace this with the actual API endpoint for creating journeys\n",
       "headers = {\n",
       "    \"Authorization\": \"Bearer YOUR_ACCESS_TOKEN\",\n",
       "    \"Content-Type\": \"application/json\"\n",
       "}\n",
       "\n",
       "data = {\n",
       "    \"journey_name\": \"My New Journey\",\n",
       "    \"journey_type\": \"application\",\n",
       "    \"journey_version_num\": \"1.0\"\n",
       "    # Add any other required data here\n",
       "}\n",
       "\n",
       "response = requests.post(url, headers=headers, json=data)\n",
       "\n",
       "if response.status_code == 201:\n",
       "    print(\"Journey created successfully\")\n",
       "    print(response.json())\n",
       "else:\n",
       "    print(\"Failed to create journey. Status code:\", response.status_code)\n",
       "    print(response.text)\n",
       "```\n",
       "\n",
       "In this example:\n",
       "- Replace `\"https://api.example.com/journeys\"` with the actual API endpoint for creating journeys.\n",
       "- Replace `\"YOUR_ACCESS_TOKEN\"` with your actual access token for authentication.\n",
       "- Customize the `data` dictionary with the required information for creating a journey.\n",
       "\n",
       "Remember to refer to the API documentation of the service you are using to create journeys for specific details on the request format and required parameters."
      ],
      "text/plain": [
       "<IPython.core.display.Markdown object>"
      ]
     },
     "metadata": {},
     "output_type": "display_data"
    }
   ],
   "source": [
    "display(Markdown(output))"
   ]
  },
  {
   "cell_type": "markdown",
   "id": "4a400e30-2d3c-4cb8-969e-c395e1178d4d",
   "metadata": {},
   "source": [
    "### 👎 Results\n",
    "\n",
    "Looks like the result is lacking the correct base URL, proper parameters, and explanation of inputs and outputs. This makes the answer still nearly useless. Likely because the model was not given enough context.\n",
    "\n",
    "### 🤔 Lets investigate what our vector store is returning"
   ]
  },
  {
   "cell_type": "code",
   "execution_count": 14,
   "id": "3dc37441-1375-4f19-8975-9e9f1840fd60",
   "metadata": {},
   "outputs": [
    {
     "name": "stdout",
     "output_type": "stream",
     "text": [
      "type: object\n",
      "                                  properties:\n",
      "                                    href:\n",
      "                                      type: string\n",
      "                      journey:\n",
      "                        type: object\n",
      "                        properties:\n",
      "                          journey_name:\n",
      "                            type: string\n",
      "                          journey_type:\n",
      "                            type: string\n",
      "                            enum:\n",
      "                              - application\n",
      "                              - alert\n",
      "                          journey_token:\n",
      "                            type: string\n",
      "                          journey_version_num:\n",
      "                            type: string\n",
      "                          _links:\n",
      "                            type: object\n",
      "                            properties:\n",
      "                              self:\n",
      "                                type: object\n",
      "                                properties:\n",
      "properties:\n",
      "                          self:\n",
      "                            type: object\n",
      "                            properties:\n",
      "                              journey_batch:\n",
      "                                type: object\n",
      "                                properties:\n",
      "                                  href:\n",
      "                                    description: Link to batch journey applications\n",
      "                                    type: string\n",
      "                      _embedded:\n",
      "                        type: object\n",
      "                        properties:\n",
      "                          journey_applications:\n",
      "                            type: array\n",
      "                            items:\n",
      "                              type: object\n",
      "                              properties:\n",
      "                                journey_application_token:\n",
      "                                  type: string\n",
      "                                sandbox:\n",
      "                                  type: boolean\n",
      "type: string\n",
      "                      page:\n",
      "                        type: number\n",
      "                        default: 1\n",
      "                        description: Default is 1\n",
      "                      per_page:\n",
      "                        type: number\n",
      "                        default: 1000\n",
      "                        description: Default/maximum is 1000\n",
      "  /journeys/{journey_token}/applications/{journey_application_token}/notes:\n",
      "    post:\n",
      "      parameters:\n",
      "        - in: path\n",
      "          name: journey_token\n",
      "          required: true\n",
      "          description: Identifier of the journey\n",
      "          schema:\n",
      "            type: string\n",
      "            example: J-VCQoADBJxeHtmdAvFqoS\n",
      "        - in: path\n",
      "          name: journey_application_token\n",
      "          required: true\n",
      "          description: Token associated with your Journey Application\n",
      "          schema:\n",
      "            type: string\n",
      "            example: JA-mhjlfS6nZe1G6HuvAKVq\n",
      "      tags:\n",
      "        - Journeys\n",
      "type: object\n",
      "                            properties:\n",
      "                              workflow_name:\n",
      "                                type: string\n",
      "                              parameters:\n",
      "                                type: object\n",
      "                                properties:\n",
      "                                  required:\n",
      "                                    type: array\n",
      "                                    items:\n",
      "                                      type: object\n",
      "                                  optional:\n",
      "                                    type: array\n",
      "                                    items:\n",
      "                                      type: object\n",
      "                                  or:\n",
      "                                    type: array\n",
      "                                    items:\n",
      "                                      type: object\n",
      "  /journeys/{journey_token}/batches:\n",
      "    post:\n",
      "      parameters:\n",
      "        - in: path\n",
      "          name: journey_token\n",
      "          required: true\n"
     ]
    }
   ],
   "source": [
    "results = retriever.invoke(query)\n",
    "\n",
    "for doc in results:\n",
    "    print(doc.page_content)"
   ]
  },
  {
   "cell_type": "markdown",
   "id": "26ee338e-8354-4acb-8e23-a1b61d459eb2",
   "metadata": {},
   "source": [
    "### 👎 Useless chunk results\n",
    "\n",
    "The results don't contain anything about the relevant API endpoint\n",
    "\n",
    "### 🤔 Can we improve the chunk results by doing smarter chunking?\n",
    "\n",
    "Maybe if we chunk the OpenAPI spec based on operations, we can give the LLM better context. For smarter chunking, we can try to chunk the OpenAPI into documents that only contain relevant information for a specific operation but keep all the contextual information (everything besides `paths`)"
   ]
  },
  {
   "cell_type": "code",
   "execution_count": 1,
   "id": "def18e15-12ef-4b74-b812-6bf8957ab0b3",
   "metadata": {},
   "outputs": [
    {
     "name": "stdout",
     "output_type": "stream",
     "text": [
      "96\n"
     ]
    }
   ],
   "source": [
    "import yaml\n",
    "import jsonref\n",
    "from jsonref import replace_refs\n",
    "from langchain_core.documents.base import Document\n",
    "from copy import deepcopy\n",
    "from pprint import pprint\n",
    "\n",
    "with open(\"alloy.com.yaml\") as f:\n",
    "    spec = f.read()\n",
    "\n",
    "def chunk_openapi_by_operation(openapi: str):\n",
    "    parsed = yaml.safe_load(openapi)\n",
    "\n",
    "    operations: (str, str) = []\n",
    "    # 1) list all operations by (path, HTTP method)\n",
    "    for path, methods in parsed['paths'].items():\n",
    "        for method in methods.keys():\n",
    "            operations.append((path, method))\n",
    "\n",
    "    # 2) create a chunk for every operation\n",
    "\n",
    "    # 2.a) Dereference entire OpenAPI Spec\n",
    "    dereferenced = replace_refs(parsed, lazy_load=False)\n",
    "\n",
    "    chunks = []\n",
    "    for operation in operations:\n",
    "        path = operation[0]\n",
    "        method = operation[1]\n",
    "        chunk = deepcopy(dereferenced)\n",
    "        if 'tags' in chunk['paths'][operation[0]][operation[1]]:\n",
    "            tags = chunk['paths'][operation[0]][operation[1]]['tags']\n",
    "\n",
    "        # first tag if possible\n",
    "        if tags:\n",
    "            tag_name = tags[0]\n",
    "\n",
    "        # delete all tags on OAS except tag for this operation\n",
    "        while len(chunk['tags']) > 1:\n",
    "            for i in range(len(chunk['tags']) - 1, -1, -1):\n",
    "                if chunk['tags'][i]['name'] != tag_name:\n",
    "                    chunk['tags'].pop(i)\n",
    "\n",
    "        if \"summary\" in chunk['paths'][path][method]:\n",
    "            summary = chunk['paths'][path][method]['summary']\n",
    "        else:\n",
    "            summary = \"\"\n",
    "\n",
    "        if \"description\" in chunk['paths'][path][method]:\n",
    "            description = chunk['paths'][path][method]['description']\n",
    "        else:\n",
    "            description = \"\"\n",
    "\n",
    "        # delete other operations\n",
    "        for other_operation in operations:\n",
    "            if other_operation[0] == operation[0]:\n",
    "                continue\n",
    "            if other_operation[0] in chunk['paths']:\n",
    "                del chunk['paths'][other_operation[0]]\n",
    "\n",
    "        # delete empty paths\n",
    "        for path in chunk['paths'].keys():\n",
    "            if not chunk['paths'][path]:\n",
    "                del chunk['paths'][path]\n",
    "\n",
    "        # delete other operations under same path\n",
    "        keys = list(chunk['paths'][operation[0]].keys())\n",
    "        for method in keys:\n",
    "            if operation[1] == method:\n",
    "                continue\n",
    "            del chunk['paths'][operation[0]][method]\n",
    "\n",
    "        # delete all components (should be inlined from 2.a)\n",
    "        del chunk['components']\n",
    "        chunks.append(({\n",
    "            \"path\": operation[0],\n",
    "            \"method\": operation[1],\n",
    "            \"openapi\": yaml.dump(chunk),\n",
    "            \"tag\": tag_name,\n",
    "            \"summary\": summary,\n",
    "            \"description\": description\n",
    "        }))\n",
    "    return list(map(lambda chunk: Document(page_content=chunk[\"openapi\"], metadata={\n",
    "        \"path\": chunk[\"path\"],\n",
    "        \"method\": chunk[\"method\"],\n",
    "        \"tag\": chunk[\"tag\"],\n",
    "        \"summary\": chunk[\"summary\"],\n",
    "        \"description\": chunk[\"description\"]\n",
    "    }), chunks))\n",
    "chunks = chunk_openapi_by_operation(spec)\n",
    "# for chunk in chunks:\n",
    "#     print(len(yaml.safe_load(chunk.page_content)['paths']))\n",
    "print(len(chunks))"
   ]
  },
  {
   "cell_type": "code",
   "execution_count": 2,
   "id": "fe0629ac-7535-4c67-886b-66774590e71c",
   "metadata": {
    "vscode": {
     "languageId": "plaintext"
    }
   },
   "outputs": [],
   "source": [
    "from langchain.chains.query_constructor.base import AttributeInfo\n",
    "from langchain.retrievers.self_query.base import SelfQueryRetriever\n",
    "from langchain_community.vectorstores.chroma import Chroma\n",
    "from langchain_openai import ChatOpenAI\n",
    "from langchain_openai import OpenAIEmbeddings\n",
    "from langchain_text_splitters import RecursiveCharacterTextSplitter\n",
    "import pinecone\n",
    "import os\n",
    "\n",
    "# for chunk in chunks:\n",
    "#     print(len(yaml.safe_load(chunk.page_content)['paths']))\n",
    "\n",
    "query = \"How do I create a journey application in Python?\"\n",
    "\n",
    "chat = ChatOpenAI(model=\"gpt-3.5-turbo-0125\", temperature=0.2)\n",
    "\n",
    "# Reset the collection to remove embeddings from previous runs\n",
    "# text_splitter = RecursiveCharacterTextSplitter(chunk_size=1000, chunk_overlap=200)\n",
    "# splits = text_splitter.split_documents(chunks)\n",
    "vectorstore = Chroma.from_documents(chunks, OpenAIEmbeddings())"
   ]
  },
  {
   "cell_type": "code",
   "execution_count": 3,
   "id": "e8dc21d4-1a28-4e6c-8191-0f0a2eeb8066",
   "metadata": {},
   "outputs": [],
   "source": [
    "metadata_field_info = [\n",
    "    AttributeInfo(\n",
    "        name=\"path\",\n",
    "        description=\"The subpath for this operation\",\n",
    "        type=\"string\",\n",
    "    ),\n",
    "    AttributeInfo(\n",
    "        name=\"method\",\n",
    "        description=\"The HTTP Method for this operation\",\n",
    "        type=\"string\",\n",
    "    ),\n",
    "    AttributeInfo(\n",
    "        name=\"tag\",\n",
    "        description=\"The logical grouping for this API operation\",\n",
    "        type=\"string\",\n",
    "    ),\n",
    "    AttributeInfo(\n",
    "        name=\"summary\",\n",
    "        description=\"A short description of this operation's functionality\",\n",
    "        type=\"string\",\n",
    "    ),\n",
    "    AttributeInfo(\n",
    "        name=\"description\",\n",
    "        description=\"A more detailed description of this operation's functionality\",\n",
    "        type=\"string\",\n",
    "    ),\n",
    "]\n",
    "document_content_description = \"The pruned OpenAPI specification which includes only the relevant information for a particular operation in the OpenAPI specification.\"\n",
    "\n",
    "# Dylan: really stupid, but I had to upgrade langchain to get this to work for some reason\n",
    "retriever = SelfQueryRetriever.from_llm(\n",
    "    chat, vectorstore, document_content_description, metadata_field_info, verbose=True, search_kwargs={\"k\": 4}\n",
    ")"
   ]
  },
  {
   "cell_type": "code",
   "execution_count": 4,
   "id": "3d66cf91-1aa8-4ba5-a9c5-6bda0809bf7c",
   "metadata": {},
   "outputs": [
    {
     "name": "stdout",
     "output_type": "stream",
     "text": [
      "[{'description': '', 'method': 'parameters', 'path': '/journeys/{journey_token}/applications/{journey_application_token}', 'summary': '', 'tag': 'Journeys'}, {'description': 'If a journey application has the status `pending_journey_application_review`, this endpoint can be used to inform the system of the outcome of the manual review and submit review notes. The outcome submitted here will be the final outcome of the journey application.', 'method': 'post', 'path': '/journeys/{journey_token}/applications/{journey_application_token}/review', 'summary': 'Manual Review Journey Application', 'tag': 'Journeys'}, {'description': 'Create a note associated with the specified Journey Application', 'method': 'post', 'path': '/journeys/{journey_token}/applications/{journey_application_token}/notes', 'summary': 'Create Journey Application Note', 'tag': 'Journeys'}, {'description': 'Create a journey application for one or more entities.\\n', 'method': 'post', 'path': '/journeys/{journey_token}/applications', 'summary': 'Create Journey Application', 'tag': 'Journeys'}]\n"
     ]
    }
   ],
   "source": [
    "relevant_docs = retriever.invoke(query)\n",
    "print(list(map(lambda doc: doc.metadata, relevant_docs)))"
   ]
  },
  {
   "cell_type": "code",
   "execution_count": 13,
   "id": "393a0e6e-3806-48a9-85f7-df13ef8c224a",
   "metadata": {},
   "outputs": [
    {
     "name": "stdout",
     "output_type": "stream",
     "text": [
      "gpt-4-turbo: Price of passing in alloy.com.yaml 1 time: $0.08301\n",
      "gpt-4-turbo: Price of passing in alloy.com.yaml 20 times: $1.6602000000000001\n",
      "gpt-3.5-turbo: Price of passing in alloy.com.yaml 1 time: $0.0041505\n",
      "gpt-3.5-turbo: Price of passing in alloy.com.yaml 20 times: $0.08301\n"
     ]
    }
   ],
   "source": [
    "import tiktoken\n",
    "\n",
    "# To get the tokeniser corresponding to a specific model in the OpenAI API:\n",
    "enc = tiktoken.encoding_for_model(\"gpt-4\")\n",
    "\n",
    "\n",
    "tokens = []\n",
    "for doc in relevant_docs:\n",
    "    tokens += enc.encode(doc.page_content)\n",
    "len(tokens)\n",
    "gpt4_price = len(tokens) * 10 / 1_000_000\n",
    "gpt35_price = len(tokens) * 0.5 / 1_000_000\n",
    "print(\"gpt-4-turbo: Price of passing in alloy.com.yaml 1 time: ${}\".format(gpt4_price))\n",
    "print(\"gpt-4-turbo: Price of passing in alloy.com.yaml 20 times: ${}\".format(gpt4_price * 20))\n",
    "print(\"gpt-3.5-turbo: Price of passing in alloy.com.yaml 1 time: ${}\".format(gpt35_price))\n",
    "print(\"gpt-3.5-turbo: Price of passing in alloy.com.yaml 20 times: ${}\".format(gpt35_price * 20))"
   ]
  },
  {
   "cell_type": "code",
   "execution_count": 15,
   "id": "13dc539a-c53b-4625-8ec5-10e667b5a8d3",
   "metadata": {},
   "outputs": [
    {
     "name": "stdout",
     "output_type": "stream",
     "text": [
      "Using RAG is 120.76135405372848x less expensive\n"
     ]
    }
   ],
   "source": [
    "print(\"Using RAG is {}x less expensive\".format(0.50122 / 0.0041505))"
   ]
  },
  {
   "cell_type": "code",
   "execution_count": 5,
   "id": "fbfe01c5-274b-4cff-a37c-db57642bcadd",
   "metadata": {},
   "outputs": [],
   "source": [
    "from langchain_core.runnables import RunnablePassthrough\n",
    "from langchain_core.prompts import ChatPromptTemplate\n",
    "from langchain_core.output_parsers import StrOutputParser\n",
    "\n",
    "better_prompt = ChatPromptTemplate.from_messages(\n",
    "    [\n",
    "        (\n",
    "            \"system\",\n",
    "            \"You are an assistant for question-answering tasks. If you don't know the answer, just say that you don't know. Use markdown to ensure code blocks and commands are propertly formatted. Make sure to always include environment setup instructions and code blocks that are helpful for a developer to copy-paste. Always explain inputs and outputs of API requests. Be as detailed as possible. Answer the user's questions based on the below context:\\n\\n{context}\",\n",
    "        ),\n",
    "        (\n",
    "            \"user\",\n",
    "            \"{question}\"\n",
    "        )\n",
    "    ]\n",
    ")\n",
    "\n",
    "def format_docs(docs):\n",
    "    return \"\\n\\n\".join(doc.page_content for doc in docs)\n",
    "\n",
    "rag_chain = (\n",
    "    {\"context\": retriever | format_docs, \"question\": RunnablePassthrough()}\n",
    "    | better_prompt\n",
    "    | chat\n",
    "    | StrOutputParser()\n",
    ")"
   ]
  },
  {
   "cell_type": "code",
   "execution_count": 6,
   "id": "dcfa6e84-1850-4bb9-bb2d-54c5e90a68f2",
   "metadata": {},
   "outputs": [],
   "source": [
    "output = rag_chain.invoke(query)"
   ]
  },
  {
   "cell_type": "code",
   "execution_count": 7,
   "id": "1c6ea941-fe79-47e3-8092-162d9a54a9e4",
   "metadata": {},
   "outputs": [
    {
     "data": {
      "text/markdown": [
       "To create a journey application using the Alloy API in Python, you need to send a POST request to the `/journeys/{journey_token}/applications` endpoint with the required payload containing the entities to be processed in the application.\n",
       "\n",
       "Here is a step-by-step guide on how to create a journey application in Python:\n",
       "\n",
       "### Step 1: Install the `requests` library\n",
       "Make sure you have the `requests` library installed. You can install it using pip:\n",
       "\n",
       "```bash\n",
       "pip install requests\n",
       "```\n",
       "\n",
       "### Step 2: Make a POST request to create a journey application\n",
       "Use the following Python script to create a journey application:\n",
       "\n",
       "```python\n",
       "import requests\n",
       "import json\n",
       "\n",
       "# Define the endpoint URL\n",
       "url = \"https://demo-qasandbox.alloy.co/v1/journeys/{journey_token}/applications\"\n",
       "\n",
       "# Define the journey token\n",
       "journey_token = \"J-VCQoADBJxeHtmdAvFqoS\"\n",
       "\n",
       "# Define the payload with the entities to be processed\n",
       "payload = {\n",
       "    \"do_await_additional_entities\": False,\n",
       "    \"entities\": [\n",
       "        {\n",
       "            \"branch_name\": \"persons\",\n",
       "            \"data\": {\n",
       "                \"addresses\": [\n",
       "                    {\n",
       "                        \"city\": \"New York\",\n",
       "                        \"country_code\": \"US\",\n",
       "                        \"line_1\": \"41 E. 11th\",\n",
       "                        \"line_2\": \"2nd floor\",\n",
       "                        \"postal_code\": \"10003\",\n",
       "                        \"state\": \"NY\",\n",
       "                        \"type\": \"primary\"\n",
       "                    }\n",
       "                ],\n",
       "                \"birth_date\": \"1990-01-25\",\n",
       "                \"document_ssn\": \"111223333\",\n",
       "                \"email_address\": \"john@alloy.com\",\n",
       "                \"ip_address_v4\": \"42.206.213.70\",\n",
       "                \"meta\": {\n",
       "                    \"user_type\": \"vip\"\n",
       "                },\n",
       "                \"name_first\": \"John\",\n",
       "                \"name_last\": \"Doe\",\n",
       "                \"name_middle\": \"Franklin\",\n",
       "                \"phone_number\": \"8443825569\"\n",
       "            },\n",
       "            \"entity_type\": \"person\",\n",
       "            \"external_entity_id\": \"my_system_entity_id_123\"\n",
       "        }\n",
       "    ]\n",
       "}\n",
       "\n",
       "# Convert the payload to JSON\n",
       "payload_json = json.dumps(payload)\n",
       "\n",
       "# Make the POST request\n",
       "response = requests.post(url.format(journey_token=journey_token), json=payload_json)\n",
       "\n",
       "# Print the response\n",
       "print(response.json())\n",
       "```\n",
       "\n",
       "In this script:\n",
       "- Replace `{journey_token}` with your actual journey token.\n",
       "- Update the `payload` dictionary with the entities you want to process in the journey application.\n",
       "\n",
       "### Step 3: Handle the response\n",
       "The response will contain information about the created journey application, including the `journey_application_token` that can be used for further interactions with the application.\n",
       "\n",
       "That's it! By following these steps, you can create a journey application using the Alloy API in Python."
      ],
      "text/plain": [
       "<IPython.core.display.Markdown object>"
      ]
     },
     "metadata": {},
     "output_type": "display_data"
    }
   ],
   "source": [
    "from IPython.display import display, Markdown\n",
    "\n",
    "display(Markdown(output))"
   ]
  },
  {
   "cell_type": "markdown",
   "id": "6eebc75d-9b00-45d4-920a-9f94b52c9220",
   "metadata": {},
   "source": [
    "### (2) Add documentation and custom configuration to input\n",
    "\n",
    "```mermaid\n",
    "graph LR\n",
    "    allow.com.yaml --> DocumentLoader\n",
    "    Documentation --> DocumentLoader\n",
    "    JSON[Custom JSON Configuration] --> DocumentLoader\n",
    "    DocumentLoader --> Chat\n",
    "    Query[How do I create a journey in Python?] --> Chat\n",
    "    Chat --> Guide\n",
    "```"
   ]
  }
 ],
 "metadata": {
  "kernelspec": {
   "display_name": "Python 3 (ipykernel)",
   "language": "python",
   "name": "python3"
  },
  "language_info": {
   "codemirror_mode": {
    "name": "ipython",
    "version": 3
   },
   "file_extension": ".py",
   "mimetype": "text/x-python",
   "name": "python",
   "nbconvert_exporter": "python",
   "pygments_lexer": "ipython3",
   "version": "3.11.6"
  }
 },
 "nbformat": 4,
 "nbformat_minor": 5
}
